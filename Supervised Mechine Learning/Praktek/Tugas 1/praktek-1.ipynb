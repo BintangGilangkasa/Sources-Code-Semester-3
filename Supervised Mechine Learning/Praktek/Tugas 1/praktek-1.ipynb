{
 "cells": [
  {
   "cell_type": "code",
   "execution_count": 19,
   "metadata": {},
   "outputs": [
    {
     "name": "stdout",
     "output_type": "stream",
     "text": [
      "Nama  : Bintang Gilangkasa Syailendra\n",
      "NIM   : 23090230002\n",
      "Kelas : Data Science/3 A\n"
     ]
    }
   ],
   "source": [
    "print (\"Nama  : Bintang Gilangkasa Syailendra\")\n",
    "print (\"NIM   : 23090230002\")\n",
    "print (\"Kelas : Data Science/3 A\")"
   ]
  },
  {
   "cell_type": "code",
   "execution_count": 22,
   "metadata": {},
   "outputs": [
    {
     "name": "stdout",
     "output_type": "stream",
     "text": [
      "12\n",
      "12\n",
      "8\n",
      "1\n"
     ]
    }
   ],
   "source": [
    "a = 3\n",
    "b = 4\n",
    "c = 5\n",
    "\n",
    "print (a+b+c)\n",
    "print (a*b)\n",
    "print (c+a)\n",
    "print (c-b)"
   ]
  },
  {
   "cell_type": "code",
   "execution_count": 25,
   "metadata": {},
   "outputs": [
    {
     "name": "stdout",
     "output_type": "stream",
     "text": [
      "Luas Segitiga dengan Alas 7 dan Tinggi 9 adalah 31.5\n"
     ]
    }
   ],
   "source": [
    "alas = int(input(\"Masukan Alas Segitiga : \"))\n",
    "tinggi = int(input(\"Masukan Tinggi Segitiga : \"))\n",
    "luas = 1/2*alas*tinggi\n",
    "\n",
    "print (f\"Luas Segitiga dengan Alas {alas} dan Tinggi {tinggi} adalah {luas}\")"
   ]
  },
  {
   "cell_type": "code",
   "execution_count": 29,
   "metadata": {},
   "outputs": [
    {
     "name": "stdout",
     "output_type": "stream",
     "text": [
      "Selamat Nilai anda E\n"
     ]
    }
   ],
   "source": [
    "nilai = int (input(\"Masukkan Nilai 0-100: \"))\n",
    "\n",
    "if nilai >= 90:\n",
    "    print (\"Selamat Nilai anda A\")\n",
    "elif nilai >=80:\n",
    "    print (\"Selamat Nilai anda B\")\n",
    "elif nilai >=70:\n",
    "    print (\"Selamat Nilai anda C\")\n",
    "elif nilai >=60:\n",
    "    print (\"Selamat Nilai anda D\")\n",
    "elif nilai >=0:\n",
    "    print (\"Selamat Nilai anda E\")\n",
    "else:\n",
    "    print (\"Nilai Tidak Valid\")"
   ]
  }
 ],
 "metadata": {
  "kernelspec": {
   "display_name": "Python 3",
   "language": "python",
   "name": "python3"
  },
  "language_info": {
   "codemirror_mode": {
    "name": "ipython",
    "version": 3
   },
   "file_extension": ".py",
   "mimetype": "text/x-python",
   "name": "python",
   "nbconvert_exporter": "python",
   "pygments_lexer": "ipython3",
   "version": "3.11.8"
  }
 },
 "nbformat": 4,
 "nbformat_minor": 2
}
