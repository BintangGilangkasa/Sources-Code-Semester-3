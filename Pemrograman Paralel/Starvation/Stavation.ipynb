{
 "cells": [
  {
   "cell_type": "code",
   "execution_count": 14,
   "metadata": {},
   "outputs": [
    {
     "name": "stdout",
     "output_type": "stream",
     "text": [
      "waktu total eksekusi 0.22 detik\n"
     ]
    }
   ],
   "source": [
    "import time\n",
    "from multiprocessing import Process, current_process\n",
    "\n",
    "#fungsi untuk simulasi tugas\n",
    "def heavy_test(task_id, iteractions):\n",
    "  process_name = current_process().name\n",
    "  print (f\"Proses {process_name} memulai tugas {task_id} dengan {iteractions} iterasi\")\n",
    "  for _ in range (iteractions):\n",
    "    pass\n",
    "  print (f\"Proses {process_name} selesai tugas {task_id}\")\n",
    "\n",
    "#simulasi starvation\n",
    "def simulate_starvation():\n",
    "  tasks = [\n",
    "      (1, 10_000_000),\n",
    "      (2, 1_000_000_000),\n",
    "      (3, 10_000_000),\n",
    "      (4, 10_000_000),\n",
    "      (5, 10_000_000)\n",
    "  ]\n",
    "\n",
    "#\n",
    "  processes = []\n",
    "  for task_id, iteractions in tasks:\n",
    "    process = Process(target=heavy_test, args=(task_id, iteractions))\n",
    "    processes.append(process)\n",
    "\n",
    "#memulai semua proses\n",
    "  for process in processes:\n",
    "    process.start()\n",
    "\n",
    "#bergabung proses\n",
    "  for process in processes:\n",
    "    process.join()\n",
    "\n",
    "if __name__ == \"__main__\":\n",
    "  start_time = time.time()\n",
    "  simulate_starvation()\n",
    "  end_time = time.time()\n",
    "  print(f\"waktu total eksekusi {end_time - start_time:.2f} detik\")\n"
   ]
  }
 ],
 "metadata": {
  "kernelspec": {
   "display_name": "Python 3",
   "language": "python",
   "name": "python3"
  },
  "language_info": {
   "codemirror_mode": {
    "name": "ipython",
    "version": 3
   },
   "file_extension": ".py",
   "mimetype": "text/x-python",
   "name": "python",
   "nbconvert_exporter": "python",
   "pygments_lexer": "ipython3",
   "version": "3.11.8"
  }
 },
 "nbformat": 4,
 "nbformat_minor": 2
}
