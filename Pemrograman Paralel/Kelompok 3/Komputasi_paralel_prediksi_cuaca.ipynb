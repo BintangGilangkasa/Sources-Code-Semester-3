{
 "cells": [
  {
   "cell_type": "markdown",
   "metadata": {
    "id": "rC6AwHBb9p7g"
   },
   "source": [
    "#Analisis Data Prediksi Cuaca dengan Komputasi Paralel"
   ]
  },
  {
   "cell_type": "markdown",
   "metadata": {
    "id": "2JFBfIYE9qqe"
   },
   "source": [
    "**Pendahuluan**\n",
    "\n",
    "Prediksi cuaca melibatkan analisis data dalam jumlah besar, seperti suhu, kelembapan, tekanan udara, dan kecepatan angin. Analisis ini sering menggunakan model regresi atau pembelajaran mesin untuk memprediksi parameter cuaca di masa depan. Namun, proses pengolahan data tersebut membutuhkan waktu yang lama, terutama jika dilakukan secara serial. Oleh karena itu, pendekatan komputasi paralel, termasuk OpenMP, MPI, dan Spark, dapat digunakan untuk mempercepat proses ini.\n",
    "\n",
    "Tujuan eksperimen ini adalah membandingkan performa komputasi serial, paralel biasa, OpenMP, MPI, dan Spark dalam melakukan prediksi suhu menggunakan regresi linear sederhana pada dataset besar.\n",
    "\n",
    "**Dataset**\n",
    "Dataset cuaca yang digunakan adalah simulasi data suhu dengan parameter:\n",
    "\n",
    "Fitur: Waktu (jam), kelembapan, tekanan udara, kecepatan angin.\n",
    "\n",
    "Target: Suhu (dalam derajat Celcius).\n",
    "\n",
    "Dataset akan dihasilkan secara acak untuk keperluan eksperimen ini."
   ]
  },
  {
   "cell_type": "markdown",
   "metadata": {
    "id": "gT3_SBvu_jG-"
   },
   "source": [
    "**1. Komputasi Serial**"
   ]
  },
  {
   "cell_type": "code",
   "execution_count": null,
   "metadata": {
    "id": "7S8XnVzj_mWv"
   },
   "outputs": [
    {
     "name": "stdout",
     "output_type": "stream",
     "text": [
      "Komputasi serial selesai dalam waktu: 0.11 detik\n"
     ]
    }
   ],
   "source": [
    "import numpy as np\n",
    "import pandas as pd\n",
    "from sklearn.linear_model import LinearRegression\n",
    "import time\n",
    "\n",
    "# Generate synthetic weather data\n",
    "np.random.seed(42)\n",
    "n_samples = 10**6\n",
    "\n",
    "data = pd.DataFrame({\n",
    "    'hour': np.random.randint(0, 24, n_samples),\n",
    "    'humidity': np.random.uniform(30, 90, n_samples),\n",
    "    'pressure': np.random.uniform(1000, 1020, n_samples),\n",
    "    'wind_speed': np.random.uniform(0, 15, n_samples),\n",
    "    'temperature': np.random.uniform(15, 35, n_samples)\n",
    "})\n",
    "\n",
    "# Split features and target\n",
    "X = data[['hour', 'humidity', 'pressure', 'wind_speed']]\n",
    "y = data['temperature']\n",
    "\n",
    "# Komputasi serial\n",
    "start_time = time.time()\n",
    "model = LinearRegression()\n",
    "model.fit(X, y)\n",
    "serial_time = time.time() - start_time\n",
    "\n",
    "print(f\"Komputasi serial selesai dalam waktu: {serial_time:.2f} detik\")"
   ]
  },
  {
   "cell_type": "markdown",
   "metadata": {
    "id": "vzh5foui9su8"
   },
   "source": [
    "**2. Komputasi Paralel Biasa**\n",
    "\n",
    "Menggunakan pustaka Joblib untuk melakukan paralelisme sederhana."
   ]
  },
  {
   "cell_type": "code",
   "execution_count": 4,
   "metadata": {
    "id": "T_BZt5xbAFY8"
   },
   "outputs": [
    {
     "ename": "ValueError",
     "evalue": "cannot set WRITEABLE flag to True of this array",
     "output_type": "error",
     "traceback": [
      "\u001b[1;31m---------------------------------------------------------------------------\u001b[0m",
      "\u001b[1;31m_RemoteTraceback\u001b[0m                          Traceback (most recent call last)",
      "\u001b[1;31m_RemoteTraceback\u001b[0m: \n\"\"\"\nTraceback (most recent call last):\n  File \"C:\\Users\\62822\\AppData\\Local\\Packages\\PythonSoftwareFoundation.Python.3.11_qbz5n2kfra8p0\\LocalCache\\local-packages\\Python311\\site-packages\\joblib\\externals\\loky\\process_executor.py\", line 463, in _process_worker\n    r = call_item()\n        ^^^^^^^^^^^\n  File \"C:\\Users\\62822\\AppData\\Local\\Packages\\PythonSoftwareFoundation.Python.3.11_qbz5n2kfra8p0\\LocalCache\\local-packages\\Python311\\site-packages\\joblib\\externals\\loky\\process_executor.py\", line 291, in __call__\n    return self.fn(*self.args, **self.kwargs)\n           ^^^^^^^^^^^^^^^^^^^^^^^^^^^^^^^^^^\n  File \"C:\\Users\\62822\\AppData\\Local\\Packages\\PythonSoftwareFoundation.Python.3.11_qbz5n2kfra8p0\\LocalCache\\local-packages\\Python311\\site-packages\\joblib\\parallel.py\", line 598, in __call__\n    return [func(*args, **kwargs)\n           ^^^^^^^^^^^^^^^^^^^^^^\n  File \"C:\\Users\\62822\\AppData\\Local\\Packages\\PythonSoftwareFoundation.Python.3.11_qbz5n2kfra8p0\\LocalCache\\local-packages\\Python311\\site-packages\\joblib\\parallel.py\", line 598, in <listcomp>\n    return [func(*args, **kwargs)\n            ^^^^^^^^^^^^^^^^^^^^^\n  File \"C:\\Users\\62822\\AppData\\Local\\Temp\\ipykernel_20676\\4019439451.py\", line 6, in parallel_fit\n  File \"C:\\Users\\62822\\AppData\\Local\\Packages\\PythonSoftwareFoundation.Python.3.11_qbz5n2kfra8p0\\LocalCache\\local-packages\\Python311\\site-packages\\sklearn\\base.py\", line 1474, in wrapper\n    return fit_method(estimator, *args, **kwargs)\n           ^^^^^^^^^^^^^^^^^^^^^^^^^^^^^^^^^^^^^^\n  File \"C:\\Users\\62822\\AppData\\Local\\Packages\\PythonSoftwareFoundation.Python.3.11_qbz5n2kfra8p0\\LocalCache\\local-packages\\Python311\\site-packages\\sklearn\\linear_model\\_base.py\", line 578, in fit\n    X, y = self._validate_data(\n           ^^^^^^^^^^^^^^^^^^^^\n  File \"C:\\Users\\62822\\AppData\\Local\\Packages\\PythonSoftwareFoundation.Python.3.11_qbz5n2kfra8p0\\LocalCache\\local-packages\\Python311\\site-packages\\sklearn\\base.py\", line 650, in _validate_data\n    X, y = check_X_y(X, y, **check_params)\n           ^^^^^^^^^^^^^^^^^^^^^^^^^^^^^^^\n  File \"C:\\Users\\62822\\AppData\\Local\\Packages\\PythonSoftwareFoundation.Python.3.11_qbz5n2kfra8p0\\LocalCache\\local-packages\\Python311\\site-packages\\sklearn\\utils\\validation.py\", line 1279, in check_X_y\n    y = _check_y(y, multi_output=multi_output, y_numeric=y_numeric, estimator=estimator)\n        ^^^^^^^^^^^^^^^^^^^^^^^^^^^^^^^^^^^^^^^^^^^^^^^^^^^^^^^^^^^^^^^^^^^^^^^^^^^^^^^^\n  File \"C:\\Users\\62822\\AppData\\Local\\Packages\\PythonSoftwareFoundation.Python.3.11_qbz5n2kfra8p0\\LocalCache\\local-packages\\Python311\\site-packages\\sklearn\\utils\\validation.py\", line 1289, in _check_y\n    y = check_array(\n        ^^^^^^^^^^^^\n  File \"C:\\Users\\62822\\AppData\\Local\\Packages\\PythonSoftwareFoundation.Python.3.11_qbz5n2kfra8p0\\LocalCache\\local-packages\\Python311\\site-packages\\sklearn\\utils\\validation.py\", line 1097, in check_array\n    array.flags.writeable = True\n    ^^^^^^^^^^^^^^^^^^^^^\nValueError: cannot set WRITEABLE flag to True of this array\n\"\"\"",
      "\nThe above exception was the direct cause of the following exception:\n",
      "\u001b[1;31mValueError\u001b[0m                                Traceback (most recent call last)",
      "Cell \u001b[1;32mIn[4], line 21\u001b[0m\n\u001b[0;32m     19\u001b[0m \u001b[38;5;66;03m# Komputasi paralel\u001b[39;00m\n\u001b[0;32m     20\u001b[0m start_time \u001b[38;5;241m=\u001b[39m time\u001b[38;5;241m.\u001b[39mtime()\n\u001b[1;32m---> 21\u001b[0m models \u001b[38;5;241m=\u001b[39m \u001b[43mParallel\u001b[49m\u001b[43m(\u001b[49m\u001b[43mn_jobs\u001b[49m\u001b[38;5;241;43m=\u001b[39;49m\u001b[43mn_partitions\u001b[49m\u001b[43m)\u001b[49m\u001b[43m(\u001b[49m\u001b[43mdelayed\u001b[49m\u001b[43m(\u001b[49m\u001b[43mparallel_fit\u001b[49m\u001b[43m)\u001b[49m\u001b[43m(\u001b[49m\u001b[43mpartition\u001b[49m\u001b[43m)\u001b[49m\u001b[43m \u001b[49m\u001b[38;5;28;43;01mfor\u001b[39;49;00m\u001b[43m \u001b[49m\u001b[43mpartition\u001b[49m\u001b[43m \u001b[49m\u001b[38;5;129;43;01min\u001b[39;49;00m\u001b[43m \u001b[49m\u001b[43mpartitions\u001b[49m\u001b[43m)\u001b[49m\n\u001b[0;32m     22\u001b[0m parallel_time \u001b[38;5;241m=\u001b[39m time\u001b[38;5;241m.\u001b[39mtime() \u001b[38;5;241m-\u001b[39m start_time\n\u001b[0;32m     24\u001b[0m \u001b[38;5;28mprint\u001b[39m(\u001b[38;5;124mf\u001b[39m\u001b[38;5;124m\"\u001b[39m\u001b[38;5;124mKomputasi paralel selesai dalam waktu: \u001b[39m\u001b[38;5;132;01m{\u001b[39;00mparallel_time\u001b[38;5;132;01m:\u001b[39;00m\u001b[38;5;124m.2f\u001b[39m\u001b[38;5;132;01m}\u001b[39;00m\u001b[38;5;124m detik\u001b[39m\u001b[38;5;124m\"\u001b[39m)\n",
      "File \u001b[1;32m~\\AppData\\Local\\Packages\\PythonSoftwareFoundation.Python.3.11_qbz5n2kfra8p0\\LocalCache\\local-packages\\Python311\\site-packages\\joblib\\parallel.py:2007\u001b[0m, in \u001b[0;36mParallel.__call__\u001b[1;34m(self, iterable)\u001b[0m\n\u001b[0;32m   2001\u001b[0m \u001b[38;5;66;03m# The first item from the output is blank, but it makes the interpreter\u001b[39;00m\n\u001b[0;32m   2002\u001b[0m \u001b[38;5;66;03m# progress until it enters the Try/Except block of the generator and\u001b[39;00m\n\u001b[0;32m   2003\u001b[0m \u001b[38;5;66;03m# reaches the first `yield` statement. This starts the asynchronous\u001b[39;00m\n\u001b[0;32m   2004\u001b[0m \u001b[38;5;66;03m# dispatch of the tasks to the workers.\u001b[39;00m\n\u001b[0;32m   2005\u001b[0m \u001b[38;5;28mnext\u001b[39m(output)\n\u001b[1;32m-> 2007\u001b[0m \u001b[38;5;28;01mreturn\u001b[39;00m output \u001b[38;5;28;01mif\u001b[39;00m \u001b[38;5;28mself\u001b[39m\u001b[38;5;241m.\u001b[39mreturn_generator \u001b[38;5;28;01melse\u001b[39;00m \u001b[38;5;28;43mlist\u001b[39;49m\u001b[43m(\u001b[49m\u001b[43moutput\u001b[49m\u001b[43m)\u001b[49m\n",
      "File \u001b[1;32m~\\AppData\\Local\\Packages\\PythonSoftwareFoundation.Python.3.11_qbz5n2kfra8p0\\LocalCache\\local-packages\\Python311\\site-packages\\joblib\\parallel.py:1650\u001b[0m, in \u001b[0;36mParallel._get_outputs\u001b[1;34m(self, iterator, pre_dispatch)\u001b[0m\n\u001b[0;32m   1647\u001b[0m     \u001b[38;5;28;01myield\u001b[39;00m\n\u001b[0;32m   1649\u001b[0m     \u001b[38;5;28;01mwith\u001b[39;00m \u001b[38;5;28mself\u001b[39m\u001b[38;5;241m.\u001b[39m_backend\u001b[38;5;241m.\u001b[39mretrieval_context():\n\u001b[1;32m-> 1650\u001b[0m         \u001b[38;5;28;01myield from\u001b[39;00m \u001b[38;5;28mself\u001b[39m\u001b[38;5;241m.\u001b[39m_retrieve()\n\u001b[0;32m   1652\u001b[0m \u001b[38;5;28;01mexcept\u001b[39;00m \u001b[38;5;167;01mGeneratorExit\u001b[39;00m:\n\u001b[0;32m   1653\u001b[0m     \u001b[38;5;66;03m# The generator has been garbage collected before being fully\u001b[39;00m\n\u001b[0;32m   1654\u001b[0m     \u001b[38;5;66;03m# consumed. This aborts the remaining tasks if possible and warn\u001b[39;00m\n\u001b[0;32m   1655\u001b[0m     \u001b[38;5;66;03m# the user if necessary.\u001b[39;00m\n\u001b[0;32m   1656\u001b[0m     \u001b[38;5;28mself\u001b[39m\u001b[38;5;241m.\u001b[39m_exception \u001b[38;5;241m=\u001b[39m \u001b[38;5;28;01mTrue\u001b[39;00m\n",
      "File \u001b[1;32m~\\AppData\\Local\\Packages\\PythonSoftwareFoundation.Python.3.11_qbz5n2kfra8p0\\LocalCache\\local-packages\\Python311\\site-packages\\joblib\\parallel.py:1754\u001b[0m, in \u001b[0;36mParallel._retrieve\u001b[1;34m(self)\u001b[0m\n\u001b[0;32m   1747\u001b[0m \u001b[38;5;28;01mwhile\u001b[39;00m \u001b[38;5;28mself\u001b[39m\u001b[38;5;241m.\u001b[39m_wait_retrieval():\n\u001b[0;32m   1748\u001b[0m \n\u001b[0;32m   1749\u001b[0m     \u001b[38;5;66;03m# If the callback thread of a worker has signaled that its task\u001b[39;00m\n\u001b[0;32m   1750\u001b[0m     \u001b[38;5;66;03m# triggered an exception, or if the retrieval loop has raised an\u001b[39;00m\n\u001b[0;32m   1751\u001b[0m     \u001b[38;5;66;03m# exception (e.g. `GeneratorExit`), exit the loop and surface the\u001b[39;00m\n\u001b[0;32m   1752\u001b[0m     \u001b[38;5;66;03m# worker traceback.\u001b[39;00m\n\u001b[0;32m   1753\u001b[0m     \u001b[38;5;28;01mif\u001b[39;00m \u001b[38;5;28mself\u001b[39m\u001b[38;5;241m.\u001b[39m_aborting:\n\u001b[1;32m-> 1754\u001b[0m         \u001b[38;5;28;43mself\u001b[39;49m\u001b[38;5;241;43m.\u001b[39;49m\u001b[43m_raise_error_fast\u001b[49m\u001b[43m(\u001b[49m\u001b[43m)\u001b[49m\n\u001b[0;32m   1755\u001b[0m         \u001b[38;5;28;01mbreak\u001b[39;00m\n\u001b[0;32m   1757\u001b[0m     \u001b[38;5;66;03m# If the next job is not ready for retrieval yet, we just wait for\u001b[39;00m\n\u001b[0;32m   1758\u001b[0m     \u001b[38;5;66;03m# async callbacks to progress.\u001b[39;00m\n",
      "File \u001b[1;32m~\\AppData\\Local\\Packages\\PythonSoftwareFoundation.Python.3.11_qbz5n2kfra8p0\\LocalCache\\local-packages\\Python311\\site-packages\\joblib\\parallel.py:1789\u001b[0m, in \u001b[0;36mParallel._raise_error_fast\u001b[1;34m(self)\u001b[0m\n\u001b[0;32m   1785\u001b[0m \u001b[38;5;66;03m# If this error job exists, immediately raise the error by\u001b[39;00m\n\u001b[0;32m   1786\u001b[0m \u001b[38;5;66;03m# calling get_result. This job might not exists if abort has been\u001b[39;00m\n\u001b[0;32m   1787\u001b[0m \u001b[38;5;66;03m# called directly or if the generator is gc'ed.\u001b[39;00m\n\u001b[0;32m   1788\u001b[0m \u001b[38;5;28;01mif\u001b[39;00m error_job \u001b[38;5;129;01mis\u001b[39;00m \u001b[38;5;129;01mnot\u001b[39;00m \u001b[38;5;28;01mNone\u001b[39;00m:\n\u001b[1;32m-> 1789\u001b[0m     \u001b[43merror_job\u001b[49m\u001b[38;5;241;43m.\u001b[39;49m\u001b[43mget_result\u001b[49m\u001b[43m(\u001b[49m\u001b[38;5;28;43mself\u001b[39;49m\u001b[38;5;241;43m.\u001b[39;49m\u001b[43mtimeout\u001b[49m\u001b[43m)\u001b[49m\n",
      "File \u001b[1;32m~\\AppData\\Local\\Packages\\PythonSoftwareFoundation.Python.3.11_qbz5n2kfra8p0\\LocalCache\\local-packages\\Python311\\site-packages\\joblib\\parallel.py:745\u001b[0m, in \u001b[0;36mBatchCompletionCallBack.get_result\u001b[1;34m(self, timeout)\u001b[0m\n\u001b[0;32m    739\u001b[0m backend \u001b[38;5;241m=\u001b[39m \u001b[38;5;28mself\u001b[39m\u001b[38;5;241m.\u001b[39mparallel\u001b[38;5;241m.\u001b[39m_backend\n\u001b[0;32m    741\u001b[0m \u001b[38;5;28;01mif\u001b[39;00m backend\u001b[38;5;241m.\u001b[39msupports_retrieve_callback:\n\u001b[0;32m    742\u001b[0m     \u001b[38;5;66;03m# We assume that the result has already been retrieved by the\u001b[39;00m\n\u001b[0;32m    743\u001b[0m     \u001b[38;5;66;03m# callback thread, and is stored internally. It's just waiting to\u001b[39;00m\n\u001b[0;32m    744\u001b[0m     \u001b[38;5;66;03m# be returned.\u001b[39;00m\n\u001b[1;32m--> 745\u001b[0m     \u001b[38;5;28;01mreturn\u001b[39;00m \u001b[38;5;28;43mself\u001b[39;49m\u001b[38;5;241;43m.\u001b[39;49m\u001b[43m_return_or_raise\u001b[49m\u001b[43m(\u001b[49m\u001b[43m)\u001b[49m\n\u001b[0;32m    747\u001b[0m \u001b[38;5;66;03m# For other backends, the main thread needs to run the retrieval step.\u001b[39;00m\n\u001b[0;32m    748\u001b[0m \u001b[38;5;28;01mtry\u001b[39;00m:\n",
      "File \u001b[1;32m~\\AppData\\Local\\Packages\\PythonSoftwareFoundation.Python.3.11_qbz5n2kfra8p0\\LocalCache\\local-packages\\Python311\\site-packages\\joblib\\parallel.py:763\u001b[0m, in \u001b[0;36mBatchCompletionCallBack._return_or_raise\u001b[1;34m(self)\u001b[0m\n\u001b[0;32m    761\u001b[0m \u001b[38;5;28;01mtry\u001b[39;00m:\n\u001b[0;32m    762\u001b[0m     \u001b[38;5;28;01mif\u001b[39;00m \u001b[38;5;28mself\u001b[39m\u001b[38;5;241m.\u001b[39mstatus \u001b[38;5;241m==\u001b[39m TASK_ERROR:\n\u001b[1;32m--> 763\u001b[0m         \u001b[38;5;28;01mraise\u001b[39;00m \u001b[38;5;28mself\u001b[39m\u001b[38;5;241m.\u001b[39m_result\n\u001b[0;32m    764\u001b[0m     \u001b[38;5;28;01mreturn\u001b[39;00m \u001b[38;5;28mself\u001b[39m\u001b[38;5;241m.\u001b[39m_result\n\u001b[0;32m    765\u001b[0m \u001b[38;5;28;01mfinally\u001b[39;00m:\n",
      "\u001b[1;31mValueError\u001b[0m: cannot set WRITEABLE flag to True of this array"
     ]
    }
   ],
   "source": [
    "from joblib import Parallel, delayed\n",
    "\n",
    "# Fungsi paralel untuk fitting model per partisi data\n",
    "def parallel_fit(partition):\n",
    "    model = LinearRegression()\n",
    "    model.fit(partition[\"X\"], partition[\"y\"])\n",
    "    return model\n",
    "\n",
    "# Membagi dataset menjadi partisi\n",
    "n_partitions = 4\n",
    "partitions = [\n",
    "    {\n",
    "        \"X\": X.iloc[i::n_partitions],\n",
    "        \"y\": y.iloc[i::n_partitions]\n",
    "    }\n",
    "    for i in range(n_partitions)\n",
    "]\n",
    "\n",
    "# Komputasi paralel\n",
    "start_time = time.time()\n",
    "models = Parallel(n_jobs=n_partitions)(delayed(parallel_fit)(partition) for partition in partitions)\n",
    "parallel_time = time.time() - start_time\n",
    "\n",
    "print(f\"Komputasi paralel selesai dalam waktu: {parallel_time:.2f} detik\")"
   ]
  },
  {
   "cell_type": "markdown",
   "metadata": {
    "id": "ey_yuA0S9tU4"
   },
   "source": [
    "**3.  Komputasi Paralel dengan OpenMP dan MPI**\n",
    "\n",
    "Pendekatan ini memerlukan implementasi di lingkungan HPC, namun untuk simulasi, kita dapat menggunakan pustaka Python seperti mpi4py."
   ]
  },
  {
   "cell_type": "code",
   "execution_count": null,
   "metadata": {
    "id": "95_aE_JNArMm"
   },
   "outputs": [],
   "source": [
    "pip install mpi4py"
   ]
  },
  {
   "cell_type": "code",
   "execution_count": 2,
   "metadata": {
    "id": "RqYJdLR2APVZ"
   },
   "outputs": [
    {
     "ename": "RuntimeError",
     "evalue": "cannot load MPI library\nCould not find module 'C:\\Users\\62822\\AppData\\Local\\Packages\\PythonSoftwareFoundation.Python.3.11_qbz5n2kfra8p0\\LocalCache\\local-packages\\DLLs' (or one of its dependencies). Try using the full path with constructor syntax.\nCould not find module 'C:\\Users\\62822\\AppData\\Local\\Packages\\PythonSoftwareFoundation.Python.3.11_qbz5n2kfra8p0\\LocalCache\\local-packages\\Library\\bin' (or one of its dependencies). Try using the full path with constructor syntax.\nCould not find module 'C:\\Program Files\\WindowsApps\\PythonSoftwareFoundation.Python.3.11_3.11.2288.0_x64__qbz5n2kfra8p0\\DLLs\\impi.dll' (or one of its dependencies). Try using the full path with constructor syntax.\nCould not find module 'C:\\Program Files\\WindowsApps\\PythonSoftwareFoundation.Python.3.11_3.11.2288.0_x64__qbz5n2kfra8p0\\DLLs\\msmpi.dll' (or one of its dependencies). Try using the full path with constructor syntax.\nCould not find module 'C:\\Program Files\\WindowsApps\\PythonSoftwareFoundation.Python.3.11_3.11.2288.0_x64__qbz5n2kfra8p0\\Library\\bin' (or one of its dependencies). Try using the full path with constructor syntax.\nCould not find module 'impi.dll' (or one of its dependencies). Try using the full path with constructor syntax.\nCould not find module 'msmpi.dll' (or one of its dependencies). Try using the full path with constructor syntax.",
     "output_type": "error",
     "traceback": [
      "\u001b[1;31m---------------------------------------------------------------------------\u001b[0m",
      "\u001b[1;31mRuntimeError\u001b[0m                              Traceback (most recent call last)",
      "Cell \u001b[1;32mIn[2], line 1\u001b[0m\n\u001b[1;32m----> 1\u001b[0m \u001b[38;5;28;01mfrom\u001b[39;00m \u001b[38;5;21;01mmpi4py\u001b[39;00m \u001b[38;5;28;01mimport\u001b[39;00m MPI\n\u001b[0;32m      3\u001b[0m comm \u001b[38;5;241m=\u001b[39m MPI\u001b[38;5;241m.\u001b[39mCOMM_WORLD\n\u001b[0;32m      4\u001b[0m rank \u001b[38;5;241m=\u001b[39m comm\u001b[38;5;241m.\u001b[39mGet_rank()\n",
      "File \u001b[1;32m<frozen importlib._bootstrap>:1176\u001b[0m, in \u001b[0;36m_find_and_load\u001b[1;34m(name, import_)\u001b[0m\n",
      "File \u001b[1;32m<frozen importlib._bootstrap>:1138\u001b[0m, in \u001b[0;36m_find_and_load_unlocked\u001b[1;34m(name, import_)\u001b[0m\n",
      "File \u001b[1;32m<frozen importlib._bootstrap>:1078\u001b[0m, in \u001b[0;36m_find_spec\u001b[1;34m(name, path, target)\u001b[0m\n",
      "File \u001b[1;32m~\\AppData\\Local\\Packages\\PythonSoftwareFoundation.Python.3.11_qbz5n2kfra8p0\\LocalCache\\local-packages\\Python311\\site-packages\\mpi4py\\_mpiabi.py:246\u001b[0m, in \u001b[0;36m_Finder.find_spec\u001b[1;34m(cls, fullname, path, target)\u001b[0m\n\u001b[0;32m    244\u001b[0m \u001b[38;5;250m\u001b[39m\u001b[38;5;124;03m\"\"\"Find MPI ABI extension module spec.\"\"\"\u001b[39;00m\n\u001b[0;32m    245\u001b[0m \u001b[38;5;66;03m# pylint: disable=unused-argument\u001b[39;00m\n\u001b[1;32m--> 246\u001b[0m mpiabi_suffix \u001b[38;5;241m=\u001b[39m \u001b[43m_get_mpiabi_suffix\u001b[49m\u001b[43m(\u001b[49m\u001b[43mfullname\u001b[49m\u001b[43m)\u001b[49m\n\u001b[0;32m    247\u001b[0m \u001b[38;5;28;01mif\u001b[39;00m mpiabi_suffix \u001b[38;5;129;01mis\u001b[39;00m \u001b[38;5;28;01mNone\u001b[39;00m:\n\u001b[0;32m    248\u001b[0m     \u001b[38;5;28;01mreturn\u001b[39;00m \u001b[38;5;28;01mNone\u001b[39;00m\n",
      "File \u001b[1;32m~\\AppData\\Local\\Packages\\PythonSoftwareFoundation.Python.3.11_qbz5n2kfra8p0\\LocalCache\\local-packages\\Python311\\site-packages\\mpi4py\\_mpiabi.py:228\u001b[0m, in \u001b[0;36m_get_mpiabi_suffix\u001b[1;34m(module)\u001b[0m\n\u001b[0;32m    226\u001b[0m \u001b[38;5;28;01mif\u001b[39;00m module \u001b[38;5;129;01mnot\u001b[39;00m \u001b[38;5;129;01min\u001b[39;00m _registry:\n\u001b[0;32m    227\u001b[0m     \u001b[38;5;28;01mreturn\u001b[39;00m \u001b[38;5;28;01mNone\u001b[39;00m\n\u001b[1;32m--> 228\u001b[0m version, family \u001b[38;5;241m=\u001b[39m \u001b[43m_get_mpiabi\u001b[49m\u001b[43m(\u001b[49m\u001b[43m)\u001b[49m\n\u001b[0;32m    229\u001b[0m versions \u001b[38;5;241m=\u001b[39m _registry[module]\u001b[38;5;241m.\u001b[39mget(family)\n\u001b[0;32m    230\u001b[0m \u001b[38;5;28;01mif\u001b[39;00m versions:\n",
      "File \u001b[1;32m~\\AppData\\Local\\Packages\\PythonSoftwareFoundation.Python.3.11_qbz5n2kfra8p0\\LocalCache\\local-packages\\Python311\\site-packages\\mpi4py\\_mpiabi.py:209\u001b[0m, in \u001b[0;36m_get_mpiabi\u001b[1;34m()\u001b[0m\n\u001b[0;32m    207\u001b[0m     version, family \u001b[38;5;241m=\u001b[39m _get_mpiabi_from_string(string)\n\u001b[0;32m    208\u001b[0m \u001b[38;5;28;01melse\u001b[39;00m:\n\u001b[1;32m--> 209\u001b[0m     version, family \u001b[38;5;241m=\u001b[39m \u001b[43m_get_mpiabi_from_libmpi\u001b[49m\u001b[43m(\u001b[49m\u001b[43mlibmpi\u001b[49m\u001b[43m)\u001b[49m\n\u001b[0;32m    210\u001b[0m _get_mpiabi\u001b[38;5;241m.\u001b[39mversion \u001b[38;5;241m=\u001b[39m version  \u001b[38;5;66;03m# pyright: ignore\u001b[39;00m\n\u001b[0;32m    211\u001b[0m _get_mpiabi\u001b[38;5;241m.\u001b[39mfamily \u001b[38;5;241m=\u001b[39m family  \u001b[38;5;66;03m# pyright: ignore\u001b[39;00m\n",
      "File \u001b[1;32m~\\AppData\\Local\\Packages\\PythonSoftwareFoundation.Python.3.11_qbz5n2kfra8p0\\LocalCache\\local-packages\\Python311\\site-packages\\mpi4py\\_mpiabi.py:153\u001b[0m, in \u001b[0;36m_get_mpiabi_from_libmpi\u001b[1;34m(libmpi)\u001b[0m\n\u001b[0;32m    150\u001b[0m \u001b[38;5;28;01mdef\u001b[39;00m \u001b[38;5;21m_get_mpiabi_from_libmpi\u001b[39m(libmpi\u001b[38;5;241m=\u001b[39m\u001b[38;5;28;01mNone\u001b[39;00m):\n\u001b[0;32m    151\u001b[0m     \u001b[38;5;66;03m# pylint: disable=import-outside-toplevel\u001b[39;00m\n\u001b[0;32m    152\u001b[0m     \u001b[38;5;28;01mimport\u001b[39;00m \u001b[38;5;21;01mctypes\u001b[39;00m \u001b[38;5;28;01mas\u001b[39;00m \u001b[38;5;21;01mct\u001b[39;00m\n\u001b[1;32m--> 153\u001b[0m     lib \u001b[38;5;241m=\u001b[39m \u001b[43m_dlopen_libmpi\u001b[49m\u001b[43m(\u001b[49m\u001b[43mlibmpi\u001b[49m\u001b[43m)\u001b[49m\n\u001b[0;32m    154\u001b[0m     lib\u001b[38;5;241m.\u001b[39mMPI_Get_version\u001b[38;5;241m.\u001b[39mrestype \u001b[38;5;241m=\u001b[39m ct\u001b[38;5;241m.\u001b[39mc_int\n\u001b[0;32m    155\u001b[0m     lib\u001b[38;5;241m.\u001b[39mMPI_Get_version\u001b[38;5;241m.\u001b[39margtypes \u001b[38;5;241m=\u001b[39m [ct\u001b[38;5;241m.\u001b[39mPOINTER(ct\u001b[38;5;241m.\u001b[39mc_int)] \u001b[38;5;241m*\u001b[39m \u001b[38;5;241m2\u001b[39m\n",
      "File \u001b[1;32m~\\AppData\\Local\\Packages\\PythonSoftwareFoundation.Python.3.11_qbz5n2kfra8p0\\LocalCache\\local-packages\\Python311\\site-packages\\mpi4py\\_mpiabi.py:144\u001b[0m, in \u001b[0;36m_dlopen_libmpi\u001b[1;34m(libmpi)\u001b[0m\n\u001b[0;32m    142\u001b[0m     \u001b[38;5;28;01mexcept\u001b[39;00m \u001b[38;5;167;01mAttributeError\u001b[39;00m \u001b[38;5;28;01mas\u001b[39;00m exc:\n\u001b[0;32m    143\u001b[0m         errors\u001b[38;5;241m.\u001b[39mappend(\u001b[38;5;28mstr\u001b[39m(exc))\n\u001b[1;32m--> 144\u001b[0m \u001b[38;5;28;01mraise\u001b[39;00m \u001b[38;5;167;01mRuntimeError\u001b[39;00m(\u001b[38;5;124m\"\u001b[39m\u001b[38;5;130;01m\\n\u001b[39;00m\u001b[38;5;124m\"\u001b[39m\u001b[38;5;241m.\u001b[39mjoin(errors))\n",
      "\u001b[1;31mRuntimeError\u001b[0m: cannot load MPI library\nCould not find module 'C:\\Users\\62822\\AppData\\Local\\Packages\\PythonSoftwareFoundation.Python.3.11_qbz5n2kfra8p0\\LocalCache\\local-packages\\DLLs' (or one of its dependencies). Try using the full path with constructor syntax.\nCould not find module 'C:\\Users\\62822\\AppData\\Local\\Packages\\PythonSoftwareFoundation.Python.3.11_qbz5n2kfra8p0\\LocalCache\\local-packages\\Library\\bin' (or one of its dependencies). Try using the full path with constructor syntax.\nCould not find module 'C:\\Program Files\\WindowsApps\\PythonSoftwareFoundation.Python.3.11_3.11.2288.0_x64__qbz5n2kfra8p0\\DLLs\\impi.dll' (or one of its dependencies). Try using the full path with constructor syntax.\nCould not find module 'C:\\Program Files\\WindowsApps\\PythonSoftwareFoundation.Python.3.11_3.11.2288.0_x64__qbz5n2kfra8p0\\DLLs\\msmpi.dll' (or one of its dependencies). Try using the full path with constructor syntax.\nCould not find module 'C:\\Program Files\\WindowsApps\\PythonSoftwareFoundation.Python.3.11_3.11.2288.0_x64__qbz5n2kfra8p0\\Library\\bin' (or one of its dependencies). Try using the full path with constructor syntax.\nCould not find module 'impi.dll' (or one of its dependencies). Try using the full path with constructor syntax.\nCould not find module 'msmpi.dll' (or one of its dependencies). Try using the full path with constructor syntax."
     ]
    }
   ],
   "source": [
    "from mpi4py import MPI\n",
    "\n",
    "comm = MPI.COMM_WORLD\n",
    "rank = comm.Get_rank()\n",
    "size = comm.Get_size()\n",
    "\n",
    "# Membagi data berdasarkan rank\n",
    "chunk_size = n_samples // size\n",
    "start_idx = rank * chunk_size\n",
    "end_idx = (rank + 1) * chunk_size if rank != size - 1 else n_samples\n",
    "\n",
    "X_chunk = X.iloc[start_idx:end_idx]\n",
    "y_chunk = y.iloc[start_idx:end_idx]\n",
    "\n",
    "# Fitting model pada setiap proses\n",
    "local_model = LinearRegression()\n",
    "local_model.fit(X_chunk, y_chunk)\n",
    "\n",
    "# Mengumpulkan model di root process\n",
    "all_models = comm.gather(local_model, root=0)\n",
    "\n",
    "if rank == 0:\n",
    "    print(f\"Model dari semua proses dikumpulkan: {len(all_models)}\")\n",
    "    # Menampilkan hasil prediksi dari model pertama sebagai contoh\n",
    "    if all_models:\n",
    "        sample_prediction = all_models[0].predict(X.iloc[:5])\n",
    "        print(f\"Hasil prediksi contoh dari model pertama: {sample_prediction}\")"
   ]
  },
  {
   "cell_type": "markdown",
   "metadata": {
    "id": "_s3EIQ9h9tzy"
   },
   "source": [
    "**4. Komputasi Paralel dengan Spark**\n",
    "\n",
    "Menggunakan PySpark untuk menjalankan operasi secara terdistribusi."
   ]
  },
  {
   "cell_type": "code",
   "execution_count": null,
   "metadata": {
    "id": "Oo1hIAtr9hBo"
   },
   "outputs": [],
   "source": [
    "from pyspark.sql import SparkSession\n",
    "from pyspark.ml.regression import LinearRegression\n",
    "from pyspark.ml.feature import VectorAssembler\n",
    "\n",
    "# Inisialisasi Spark\n",
    "spark = SparkSession.builder.appName(\"Weather Prediction\").getOrCreate()\n",
    "\n",
    "# Konversi DataFrame ke Spark DataFrame\n",
    "spark_df = spark.createDataFrame(data)\n",
    "\n",
    "# Menyusun fitur menjadi satu kolom\n",
    "feature_cols = ['hour', 'humidity', 'pressure', 'wind_speed']\n",
    "assembler = VectorAssembler(inputCols=feature_cols, outputCol='features')\n",
    "spark_df = assembler.transform(spark_df)\n",
    "\n",
    "# Membagi data menjadi training dan test\n",
    "train_df, test_df = spark_df.randomSplit([0.8, 0.2], seed=42)\n",
    "\n",
    "# Membuat dan melatih model regresi linear\n",
    "lr = LinearRegression(featuresCol='features', labelCol='temperature')\n",
    "model = lr.fit(train_df)\n",
    "\n",
    "# Evaluasi model\n",
    "predictions = model.transform(test_df)\n",
    "\n",
    "# Menampilkan hasil prediksi pertama untuk memastikan hasilnya\n",
    "print(\"Menampilkan contoh hasil prediksi:\")\n",
    "predictions.select('temperature', 'prediction').show(5)\n",
    "\n",
    "spark.stop()\n"
   ]
  },
  {
   "cell_type": "markdown",
   "metadata": {
    "id": "10Aez1XW9mmr"
   },
   "source": [
    "# Tugas.\n",
    "\n",
    "Lakukan simulasi contoh kode diatas sebagai implementasi dari komputasi paralel. Setelah itu lakukan analisis hasil dari percobaan tersebut, selain melakukan analisis dan pembahasan hasil, lakukan pula analisis dan pembahasan dari kode program dalam melakukan komputasi paralel. Coba pula lakukan pada simulasi pada data yang lebih besar (bisa mencari pentunjuk di internet). Cari kelebihan dan kekurangan dari masing-masing metode dalam penerapan simulasi tersebut. Tuangkan dalam format draft artikel yang terdiri dari:\n",
    "1. Pendahuluan\n",
    "2. Penelitian terkait dan landasan teori\n",
    "3. Meodologi Penelitian\n",
    "4. Hasil dan Pembahasan\n",
    "5. Kesimpulan\n"
   ]
  }
 ],
 "metadata": {
  "colab": {
   "authorship_tag": "ABX9TyMmGlqV2vUnwiIg/3s9FAsi",
   "provenance": []
  },
  "kernelspec": {
   "display_name": "Python 3",
   "name": "python3"
  },
  "language_info": {
   "codemirror_mode": {
    "name": "ipython",
    "version": 3
   },
   "file_extension": ".py",
   "mimetype": "text/x-python",
   "name": "python",
   "nbconvert_exporter": "python",
   "pygments_lexer": "ipython3",
   "version": "3.11.8"
  }
 },
 "nbformat": 4,
 "nbformat_minor": 0
}
