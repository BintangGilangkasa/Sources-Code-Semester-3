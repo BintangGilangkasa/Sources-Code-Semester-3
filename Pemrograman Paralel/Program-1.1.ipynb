{
 "cells": [
  {
   "cell_type": "code",
   "execution_count": 11,
   "metadata": {},
   "outputs": [],
   "source": [
    "r = 10\n",
    "pi = 3.14 or 22/7"
   ]
  },
  {
   "cell_type": "code",
   "execution_count": 12,
   "metadata": {},
   "outputs": [],
   "source": [
    "nama = str(input(\"Masukan Nama anda : \"))"
   ]
  },
  {
   "cell_type": "code",
   "execution_count": 13,
   "metadata": {},
   "outputs": [
    {
     "name": "stdout",
     "output_type": "stream",
     "text": [
      "Bintang\n",
      "314.0\n",
      "13.14\n"
     ]
    }
   ],
   "source": [
    "print (nama)\n",
    "print (pi * (r**2))\n",
    "print (pi + r)"
   ]
  },
  {
   "cell_type": "code",
   "execution_count": 2,
   "metadata": {},
   "outputs": [
    {
     "name": "stdout",
     "output_type": "stream",
     "text": [
      "A\n"
     ]
    }
   ],
   "source": [
    "nilai = float(input(\"Masukan Nilai : \"))\n",
    "\n",
    "if nilai >= 95:\n",
    "    print (\"A\")\n",
    "elif nilai >=90:\n",
    "    print (\"A-\")\n",
    "elif nilai >= 85:\n",
    "    print (\"B\")\n",
    "elif nilai >= 80:\n",
    "    print (\"B\")\n",
    "elif nilai >= 75:\n",
    "    print (\"B-\")\n",
    "elif nilai >= 70:\n",
    "    print (\"BC\")\n",
    "elif nilai >= 65:\n",
    "    print (\"C\")\n",
    "else:\n",
    "    print (\"D\")"
   ]
  }
 ],
 "metadata": {
  "kernelspec": {
   "display_name": "Python 3",
   "language": "python",
   "name": "python3"
  },
  "language_info": {
   "codemirror_mode": {
    "name": "ipython",
    "version": 3
   },
   "file_extension": ".py",
   "mimetype": "text/x-python",
   "name": "python",
   "nbconvert_exporter": "python",
   "pygments_lexer": "ipython3",
   "version": "3.11.8"
  }
 },
 "nbformat": 4,
 "nbformat_minor": 2
}
